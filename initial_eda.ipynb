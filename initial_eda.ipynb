{
 "metadata": {
  "language_info": {
   "codemirror_mode": {
    "name": "ipython",
    "version": 3
   },
   "file_extension": ".py",
   "mimetype": "text/x-python",
   "name": "python",
   "nbconvert_exporter": "python",
   "pygments_lexer": "ipython3",
   "version": "3.7.6-final"
  },
  "orig_nbformat": 2,
  "kernelspec": {
   "name": "Python 3.7.6 64-bit ('base': conda)",
   "display_name": "Python 3.7.6 64-bit ('base': conda)",
   "metadata": {
    "interpreter": {
     "hash": "77cd2a4a9de41a928acf7173dc21c8dd11e2d8983c70a12e38b7b749033e9d7d"
    }
   }
  }
 },
 "nbformat": 4,
 "nbformat_minor": 2,
 "cells": [
  {
   "source": [
    "## Grabbing data from the last uploaded CSV file on 6/10/2020"
   ],
   "cell_type": "markdown",
   "metadata": {}
  },
  {
   "cell_type": "code",
   "execution_count": 2,
   "metadata": {},
   "outputs": [
    {
     "output_type": "execute_result",
     "data": {
      "text/plain": "        total_cases      new_cases  new_cases_smoothed  total_deaths  \\\ncount  4.776500e+04   47548.000000        46766.000000  4.776500e+04   \nmean   1.103010e+05    1494.217128         1482.074443  4.304993e+03   \nstd    1.140970e+06   13508.820786        13323.138463  3.995523e+04   \nmin    0.000000e+00   -8261.000000         -552.000000  0.000000e+00   \n25%    6.600000e+01       0.000000            0.571000  1.000000e+00   \n50%    1.118000e+03      11.000000           15.714000  2.200000e+01   \n75%    1.222900e+04     172.000000          178.429000  2.600000e+02   \nmax    3.552352e+07  322780.000000       297801.000000  1.042398e+06   \n\n         new_deaths  new_deaths_smoothed  total_cases_per_million  \\\ncount  47548.000000         46766.000000             47484.000000   \nmean      43.846134            43.941704              2049.942796   \nstd      368.447643           358.584849              4286.880870   \nmin    -1918.000000          -232.143000                 0.000000   \n25%        0.000000             0.000000                35.567000   \n50%        0.000000             0.143000               305.832000   \n75%        3.000000             3.143000              2166.081500   \nmax    10491.000000          7456.714000             43974.093000   \n\n       new_cases_per_million  new_cases_smoothed_per_million  \\\ncount           47484.000000                    46701.000000   \nmean               25.831416                       25.403657   \nstd                78.064335                       59.457196   \nmin             -2212.545000                     -269.978000   \n25%                 0.000000                        0.159000   \n50%                 1.651500                        3.105000   \n75%                18.871750                       20.867000   \nmax              4944.376000                      882.924000   \n\n       total_deaths_per_million  ...  gdp_per_capita  extreme_poverty  \\\ncount              47484.000000  ...    42561.000000     28397.000000   \nmean                  60.403908  ...    20855.687366        12.165560   \nstd                  146.733670  ...    20410.174581        19.256213   \nmin                    0.000000  ...      661.240000         0.100000   \n25%                    0.044000  ...     5338.454000         0.500000   \n50%                    5.370000  ...    14048.881000         2.000000   \n75%                   38.368000  ...    31400.840000        16.000000   \nmax                 1237.551000  ...   116935.600000        77.600000   \n\n       cardiovasc_death_rate  diabetes_prevalence  female_smokers  \\\ncount           43130.000000         44655.000000    33756.000000   \nmean              251.701517             8.049948       10.801640   \nstd               117.495437             4.149711       10.477733   \nmin                79.370000             0.990000        0.100000   \n25%               155.898000             5.310000        1.900000   \n50%               238.339000             7.110000        6.400000   \n75%               318.991000            10.390000       19.600000   \nmax               724.417000            23.360000       44.000000   \n\n       male_smokers  handwashing_facilities  hospital_beds_per_thousand  \\\ncount  33327.000000            20227.000000                38942.000000   \nmean      32.636833               52.396283                    3.107852   \nstd       13.423695               31.611428                    2.524989   \nmin        7.700000                1.188000                    0.100000   \n25%       21.400000               21.222000                    1.300000   \n50%       31.400000               55.182000                    2.500000   \n75%       40.900000               83.741000                    4.200000   \nmax       78.100000               98.999000                   13.800000   \n\n       life_expectancy  human_development_index  \ncount     47490.000000              41609.00000  \nmean         74.009747                  0.72443  \nstd           7.376493                  0.15288  \nmin          53.280000                  0.35400  \n25%          69.870000                  0.60600  \n50%          75.400000                  0.75400  \n75%          79.380000                  0.84700  \nmax          86.750000                  0.95300  \n\n[8 rows x 36 columns]",
      "text/html": "<div>\n<style scoped>\n    .dataframe tbody tr th:only-of-type {\n        vertical-align: middle;\n    }\n\n    .dataframe tbody tr th {\n        vertical-align: top;\n    }\n\n    .dataframe thead th {\n        text-align: right;\n    }\n</style>\n<table border=\"1\" class=\"dataframe\">\n  <thead>\n    <tr style=\"text-align: right;\">\n      <th></th>\n      <th>total_cases</th>\n      <th>new_cases</th>\n      <th>new_cases_smoothed</th>\n      <th>total_deaths</th>\n      <th>new_deaths</th>\n      <th>new_deaths_smoothed</th>\n      <th>total_cases_per_million</th>\n      <th>new_cases_per_million</th>\n      <th>new_cases_smoothed_per_million</th>\n      <th>total_deaths_per_million</th>\n      <th>...</th>\n      <th>gdp_per_capita</th>\n      <th>extreme_poverty</th>\n      <th>cardiovasc_death_rate</th>\n      <th>diabetes_prevalence</th>\n      <th>female_smokers</th>\n      <th>male_smokers</th>\n      <th>handwashing_facilities</th>\n      <th>hospital_beds_per_thousand</th>\n      <th>life_expectancy</th>\n      <th>human_development_index</th>\n    </tr>\n  </thead>\n  <tbody>\n    <tr>\n      <th>count</th>\n      <td>4.776500e+04</td>\n      <td>47548.000000</td>\n      <td>46766.000000</td>\n      <td>4.776500e+04</td>\n      <td>47548.000000</td>\n      <td>46766.000000</td>\n      <td>47484.000000</td>\n      <td>47484.000000</td>\n      <td>46701.000000</td>\n      <td>47484.000000</td>\n      <td>...</td>\n      <td>42561.000000</td>\n      <td>28397.000000</td>\n      <td>43130.000000</td>\n      <td>44655.000000</td>\n      <td>33756.000000</td>\n      <td>33327.000000</td>\n      <td>20227.000000</td>\n      <td>38942.000000</td>\n      <td>47490.000000</td>\n      <td>41609.00000</td>\n    </tr>\n    <tr>\n      <th>mean</th>\n      <td>1.103010e+05</td>\n      <td>1494.217128</td>\n      <td>1482.074443</td>\n      <td>4.304993e+03</td>\n      <td>43.846134</td>\n      <td>43.941704</td>\n      <td>2049.942796</td>\n      <td>25.831416</td>\n      <td>25.403657</td>\n      <td>60.403908</td>\n      <td>...</td>\n      <td>20855.687366</td>\n      <td>12.165560</td>\n      <td>251.701517</td>\n      <td>8.049948</td>\n      <td>10.801640</td>\n      <td>32.636833</td>\n      <td>52.396283</td>\n      <td>3.107852</td>\n      <td>74.009747</td>\n      <td>0.72443</td>\n    </tr>\n    <tr>\n      <th>std</th>\n      <td>1.140970e+06</td>\n      <td>13508.820786</td>\n      <td>13323.138463</td>\n      <td>3.995523e+04</td>\n      <td>368.447643</td>\n      <td>358.584849</td>\n      <td>4286.880870</td>\n      <td>78.064335</td>\n      <td>59.457196</td>\n      <td>146.733670</td>\n      <td>...</td>\n      <td>20410.174581</td>\n      <td>19.256213</td>\n      <td>117.495437</td>\n      <td>4.149711</td>\n      <td>10.477733</td>\n      <td>13.423695</td>\n      <td>31.611428</td>\n      <td>2.524989</td>\n      <td>7.376493</td>\n      <td>0.15288</td>\n    </tr>\n    <tr>\n      <th>min</th>\n      <td>0.000000e+00</td>\n      <td>-8261.000000</td>\n      <td>-552.000000</td>\n      <td>0.000000e+00</td>\n      <td>-1918.000000</td>\n      <td>-232.143000</td>\n      <td>0.000000</td>\n      <td>-2212.545000</td>\n      <td>-269.978000</td>\n      <td>0.000000</td>\n      <td>...</td>\n      <td>661.240000</td>\n      <td>0.100000</td>\n      <td>79.370000</td>\n      <td>0.990000</td>\n      <td>0.100000</td>\n      <td>7.700000</td>\n      <td>1.188000</td>\n      <td>0.100000</td>\n      <td>53.280000</td>\n      <td>0.35400</td>\n    </tr>\n    <tr>\n      <th>25%</th>\n      <td>6.600000e+01</td>\n      <td>0.000000</td>\n      <td>0.571000</td>\n      <td>1.000000e+00</td>\n      <td>0.000000</td>\n      <td>0.000000</td>\n      <td>35.567000</td>\n      <td>0.000000</td>\n      <td>0.159000</td>\n      <td>0.044000</td>\n      <td>...</td>\n      <td>5338.454000</td>\n      <td>0.500000</td>\n      <td>155.898000</td>\n      <td>5.310000</td>\n      <td>1.900000</td>\n      <td>21.400000</td>\n      <td>21.222000</td>\n      <td>1.300000</td>\n      <td>69.870000</td>\n      <td>0.60600</td>\n    </tr>\n    <tr>\n      <th>50%</th>\n      <td>1.118000e+03</td>\n      <td>11.000000</td>\n      <td>15.714000</td>\n      <td>2.200000e+01</td>\n      <td>0.000000</td>\n      <td>0.143000</td>\n      <td>305.832000</td>\n      <td>1.651500</td>\n      <td>3.105000</td>\n      <td>5.370000</td>\n      <td>...</td>\n      <td>14048.881000</td>\n      <td>2.000000</td>\n      <td>238.339000</td>\n      <td>7.110000</td>\n      <td>6.400000</td>\n      <td>31.400000</td>\n      <td>55.182000</td>\n      <td>2.500000</td>\n      <td>75.400000</td>\n      <td>0.75400</td>\n    </tr>\n    <tr>\n      <th>75%</th>\n      <td>1.222900e+04</td>\n      <td>172.000000</td>\n      <td>178.429000</td>\n      <td>2.600000e+02</td>\n      <td>3.000000</td>\n      <td>3.143000</td>\n      <td>2166.081500</td>\n      <td>18.871750</td>\n      <td>20.867000</td>\n      <td>38.368000</td>\n      <td>...</td>\n      <td>31400.840000</td>\n      <td>16.000000</td>\n      <td>318.991000</td>\n      <td>10.390000</td>\n      <td>19.600000</td>\n      <td>40.900000</td>\n      <td>83.741000</td>\n      <td>4.200000</td>\n      <td>79.380000</td>\n      <td>0.84700</td>\n    </tr>\n    <tr>\n      <th>max</th>\n      <td>3.552352e+07</td>\n      <td>322780.000000</td>\n      <td>297801.000000</td>\n      <td>1.042398e+06</td>\n      <td>10491.000000</td>\n      <td>7456.714000</td>\n      <td>43974.093000</td>\n      <td>4944.376000</td>\n      <td>882.924000</td>\n      <td>1237.551000</td>\n      <td>...</td>\n      <td>116935.600000</td>\n      <td>77.600000</td>\n      <td>724.417000</td>\n      <td>23.360000</td>\n      <td>44.000000</td>\n      <td>78.100000</td>\n      <td>98.999000</td>\n      <td>13.800000</td>\n      <td>86.750000</td>\n      <td>0.95300</td>\n    </tr>\n  </tbody>\n</table>\n<p>8 rows × 36 columns</p>\n</div>"
     },
     "metadata": {},
     "execution_count": 2
    }
   ],
   "source": [
    "import numpy as np\n",
    "import pandas as pd\n",
    "\n",
    "df = pd.read_csv(\"https://covid.ourworldindata.org/data/owid-covid-data.csv\")\n",
    "df.describe()"
   ]
  },
  {
   "cell_type": "code",
   "execution_count": 4,
   "metadata": {},
   "outputs": [
    {
     "output_type": "execute_result",
     "data": {
      "text/plain": "  iso_code      continent location        date  total_cases  new_cases  \\\n0      ABW  North America    Aruba  2020-03-13          2.0        2.0   \n1      ABW  North America    Aruba  2020-03-19          NaN        NaN   \n2      ABW  North America    Aruba  2020-03-20          4.0        2.0   \n3      ABW  North America    Aruba  2020-03-21          NaN        NaN   \n4      ABW  North America    Aruba  2020-03-22          NaN        NaN   \n\n   new_cases_smoothed  total_deaths  new_deaths  new_deaths_smoothed  ...  \\\n0                 NaN           0.0         0.0                  NaN  ...   \n1               0.286           NaN         NaN                  0.0  ...   \n2               0.286           0.0         0.0                  0.0  ...   \n3               0.286           NaN         NaN                  0.0  ...   \n4               0.286           NaN         NaN                  0.0  ...   \n\n   gdp_per_capita  extreme_poverty  cardiovasc_death_rate  \\\n0       35973.781              NaN                    NaN   \n1       35973.781              NaN                    NaN   \n2       35973.781              NaN                    NaN   \n3       35973.781              NaN                    NaN   \n4       35973.781              NaN                    NaN   \n\n   diabetes_prevalence  female_smokers  male_smokers  handwashing_facilities  \\\n0                11.62             NaN           NaN                     NaN   \n1                11.62             NaN           NaN                     NaN   \n2                11.62             NaN           NaN                     NaN   \n3                11.62             NaN           NaN                     NaN   \n4                11.62             NaN           NaN                     NaN   \n\n   hospital_beds_per_thousand  life_expectancy  human_development_index  \n0                         NaN            76.29                      NaN  \n1                         NaN            76.29                      NaN  \n2                         NaN            76.29                      NaN  \n3                         NaN            76.29                      NaN  \n4                         NaN            76.29                      NaN  \n\n[5 rows x 41 columns]",
      "text/html": "<div>\n<style scoped>\n    .dataframe tbody tr th:only-of-type {\n        vertical-align: middle;\n    }\n\n    .dataframe tbody tr th {\n        vertical-align: top;\n    }\n\n    .dataframe thead th {\n        text-align: right;\n    }\n</style>\n<table border=\"1\" class=\"dataframe\">\n  <thead>\n    <tr style=\"text-align: right;\">\n      <th></th>\n      <th>iso_code</th>\n      <th>continent</th>\n      <th>location</th>\n      <th>date</th>\n      <th>total_cases</th>\n      <th>new_cases</th>\n      <th>new_cases_smoothed</th>\n      <th>total_deaths</th>\n      <th>new_deaths</th>\n      <th>new_deaths_smoothed</th>\n      <th>...</th>\n      <th>gdp_per_capita</th>\n      <th>extreme_poverty</th>\n      <th>cardiovasc_death_rate</th>\n      <th>diabetes_prevalence</th>\n      <th>female_smokers</th>\n      <th>male_smokers</th>\n      <th>handwashing_facilities</th>\n      <th>hospital_beds_per_thousand</th>\n      <th>life_expectancy</th>\n      <th>human_development_index</th>\n    </tr>\n  </thead>\n  <tbody>\n    <tr>\n      <th>0</th>\n      <td>ABW</td>\n      <td>North America</td>\n      <td>Aruba</td>\n      <td>2020-03-13</td>\n      <td>2.0</td>\n      <td>2.0</td>\n      <td>NaN</td>\n      <td>0.0</td>\n      <td>0.0</td>\n      <td>NaN</td>\n      <td>...</td>\n      <td>35973.781</td>\n      <td>NaN</td>\n      <td>NaN</td>\n      <td>11.62</td>\n      <td>NaN</td>\n      <td>NaN</td>\n      <td>NaN</td>\n      <td>NaN</td>\n      <td>76.29</td>\n      <td>NaN</td>\n    </tr>\n    <tr>\n      <th>1</th>\n      <td>ABW</td>\n      <td>North America</td>\n      <td>Aruba</td>\n      <td>2020-03-19</td>\n      <td>NaN</td>\n      <td>NaN</td>\n      <td>0.286</td>\n      <td>NaN</td>\n      <td>NaN</td>\n      <td>0.0</td>\n      <td>...</td>\n      <td>35973.781</td>\n      <td>NaN</td>\n      <td>NaN</td>\n      <td>11.62</td>\n      <td>NaN</td>\n      <td>NaN</td>\n      <td>NaN</td>\n      <td>NaN</td>\n      <td>76.29</td>\n      <td>NaN</td>\n    </tr>\n    <tr>\n      <th>2</th>\n      <td>ABW</td>\n      <td>North America</td>\n      <td>Aruba</td>\n      <td>2020-03-20</td>\n      <td>4.0</td>\n      <td>2.0</td>\n      <td>0.286</td>\n      <td>0.0</td>\n      <td>0.0</td>\n      <td>0.0</td>\n      <td>...</td>\n      <td>35973.781</td>\n      <td>NaN</td>\n      <td>NaN</td>\n      <td>11.62</td>\n      <td>NaN</td>\n      <td>NaN</td>\n      <td>NaN</td>\n      <td>NaN</td>\n      <td>76.29</td>\n      <td>NaN</td>\n    </tr>\n    <tr>\n      <th>3</th>\n      <td>ABW</td>\n      <td>North America</td>\n      <td>Aruba</td>\n      <td>2020-03-21</td>\n      <td>NaN</td>\n      <td>NaN</td>\n      <td>0.286</td>\n      <td>NaN</td>\n      <td>NaN</td>\n      <td>0.0</td>\n      <td>...</td>\n      <td>35973.781</td>\n      <td>NaN</td>\n      <td>NaN</td>\n      <td>11.62</td>\n      <td>NaN</td>\n      <td>NaN</td>\n      <td>NaN</td>\n      <td>NaN</td>\n      <td>76.29</td>\n      <td>NaN</td>\n    </tr>\n    <tr>\n      <th>4</th>\n      <td>ABW</td>\n      <td>North America</td>\n      <td>Aruba</td>\n      <td>2020-03-22</td>\n      <td>NaN</td>\n      <td>NaN</td>\n      <td>0.286</td>\n      <td>NaN</td>\n      <td>NaN</td>\n      <td>0.0</td>\n      <td>...</td>\n      <td>35973.781</td>\n      <td>NaN</td>\n      <td>NaN</td>\n      <td>11.62</td>\n      <td>NaN</td>\n      <td>NaN</td>\n      <td>NaN</td>\n      <td>NaN</td>\n      <td>76.29</td>\n      <td>NaN</td>\n    </tr>\n  </tbody>\n</table>\n<p>5 rows × 41 columns</p>\n</div>"
     },
     "metadata": {},
     "execution_count": 4
    }
   ],
   "source": [
    "df.head()"
   ]
  },
  {
   "source": [
    "#### Listing the columns to get an idea of what data is available from the repository"
   ],
   "cell_type": "markdown",
   "metadata": {}
  },
  {
   "cell_type": "code",
   "execution_count": 3,
   "metadata": {
    "tags": []
   },
   "outputs": [
    {
     "output_type": "stream",
     "name": "stdout",
     "text": "&lt;class &#39;pandas.core.frame.DataFrame&#39;&gt;\nRangeIndex: 48380 entries, 0 to 48379\nData columns (total 41 columns):\n #   Column                           Non-Null Count  Dtype  \n---  ------                           --------------  -----  \n 0   iso_code                         48099 non-null  object \n 1   continent                        47818 non-null  object \n 2   location                         48380 non-null  object \n 3   date                             48380 non-null  object \n 4   total_cases                      47765 non-null  float64\n 5   new_cases                        47548 non-null  float64\n 6   new_cases_smoothed               46766 non-null  float64\n 7   total_deaths                     47765 non-null  float64\n 8   new_deaths                       47548 non-null  float64\n 9   new_deaths_smoothed              46766 non-null  float64\n 10  total_cases_per_million          47484 non-null  float64\n 11  new_cases_per_million            47484 non-null  float64\n 12  new_cases_smoothed_per_million   46701 non-null  float64\n 13  total_deaths_per_million         47484 non-null  float64\n 14  new_deaths_per_million           47484 non-null  float64\n 15  new_deaths_smoothed_per_million  46701 non-null  float64\n 16  new_tests                        17362 non-null  float64\n 17  total_tests                      17780 non-null  float64\n 18  total_tests_per_thousand         17780 non-null  float64\n 19  new_tests_per_thousand           17362 non-null  float64\n 20  new_tests_smoothed               19595 non-null  float64\n 21  new_tests_smoothed_per_thousand  19595 non-null  float64\n 22  tests_per_case                   18042 non-null  float64\n 23  positive_rate                    18481 non-null  float64\n 24  tests_units                      20435 non-null  object \n 25  stringency_index                 40224 non-null  float64\n 26  population                       48099 non-null  float64\n 27  population_density               45893 non-null  float64\n 28  median_age                       43122 non-null  float64\n 29  aged_65_older                    42479 non-null  float64\n 30  aged_70_older                    42898 non-null  float64\n 31  gdp_per_capita                   42561 non-null  float64\n 32  extreme_poverty                  28397 non-null  float64\n 33  cardiovasc_death_rate            43130 non-null  float64\n 34  diabetes_prevalence              44655 non-null  float64\n 35  female_smokers                   33756 non-null  float64\n 36  male_smokers                     33327 non-null  float64\n 37  handwashing_facilities           20227 non-null  float64\n 38  hospital_beds_per_thousand       38942 non-null  float64\n 39  life_expectancy                  47490 non-null  float64\n 40  human_development_index          41609 non-null  float64\ndtypes: float64(36), object(5)\nmemory usage: 15.1+ MB\n"
    }
   ],
   "source": [
    "df.info()"
   ]
  },
  {
   "source": [
    "#### Checking to see which caribbean countries aree currently covered by the OWID website"
   ],
   "cell_type": "markdown",
   "metadata": {}
  },
  {
   "cell_type": "code",
   "execution_count": 24,
   "metadata": {
    "tags": []
   },
   "outputs": [
    {
     "output_type": "execute_result",
     "data": {
      "text/plain": "array([&#39;Aruba&#39;, &#39;Antigua and Barbuda&#39;, &#39;Bahamas&#39;, &#39;Barbados&#39;, &#39;Cuba&#39;,\n       &#39;Curacao&#39;, &#39;Cayman Islands&#39;, &#39;Dominica&#39;, &#39;Dominican Republic&#39;,\n       &#39;Grenada&#39;, &#39;Haiti&#39;, &#39;Jamaica&#39;, &#39;Saint Kitts and Nevis&#39;,\n       &#39;Saint Lucia&#39;, &#39;Montserrat&#39;, &#39;Puerto Rico&#39;,\n       &#39;Turks and Caicos Islands&#39;, &#39;Trinidad and Tobago&#39;,\n       &#39;Saint Vincent and the Grenadines&#39;, &#39;British Virgin Islands&#39;,\n       &#39;United States Virgin Islands&#39;], dtype=object)"
     },
     "metadata": {},
     "execution_count": 24
    }
   ],
   "source": [
    "carribean_countries = [\"Anguila\",\"Antigua and Barbuda\",\"Aruba\",\"Bahamas\",\"Barbados\",\"Bonaire\",\"British Virgin Islands\",\"Cayman Islands\",\"Cuba\",\"Curacao\",\"Dominica\",\"Dominican Republic\",\"Grenada\",\"Guadeloupe\",\"Haiti\",\"Jamaica\",\"Martinique\",\"Montserrat\",\"Puerto Rico\",\"Saba\",\"Saint Barthélemy\",\"Saint Kitts and Nevis\",\"Saint Lucia\",\"Saint Martin\",\"Saint Vincent and the Grenadines\",\"Sint Eustatius\",\"Sint Maarten\",\"Trinidad and Tobago\",\"Turks and Caicos Islands\",\"United States Virgin Islands\"]\n",
    "\n",
    "\n",
    "df_carib = df[df['location'].isin(carribean_countries)]\n",
    "df_carib['location'].unique()"
   ]
  },
  {
   "source": [
    "#### Rudimentary analysis will be performed next to get an idea of what we're looking at\n",
    "### NOTE: NO CLEANING HAS BEEN DONE AS YET\n",
    "\n"
   ],
   "cell_type": "markdown",
   "metadata": {}
  },
  {
   "cell_type": "code",
   "execution_count": null,
   "metadata": {},
   "outputs": [],
   "source": []
  }
 ]
}